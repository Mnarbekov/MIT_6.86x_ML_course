{
 "cells": [
  {
   "cell_type": "code",
   "execution_count": 2,
   "metadata": {},
   "outputs": [],
   "source": [
    "import numpy as np\n",
    "\n",
    "def randomization(n):\n",
    "    \"\"\"\n",
    "    Arg:\n",
    "      n - an integer\n",
    "    Returns:\n",
    "      A - a randomly-generated nx1 Numpy array.\n",
    "    \"\"\"\n",
    "    A = np.random.random([n,1])\n",
    "    \n",
    "    return A\n",
    "    \n",
    "    raise NotImplementedError"
   ]
  },
  {
   "cell_type": "code",
   "execution_count": 4,
   "metadata": {},
   "outputs": [
    {
     "data": {
      "text/plain": [
       "array([[0.66210615],\n",
       "       [0.17886173],\n",
       "       [0.25989736],\n",
       "       [0.96402986],\n",
       "       [0.29183545]])"
      ]
     },
     "execution_count": 4,
     "metadata": {},
     "output_type": "execute_result"
    }
   ],
   "source": [
    "randomization(5)"
   ]
  },
  {
   "cell_type": "code",
   "execution_count": 6,
   "metadata": {},
   "outputs": [],
   "source": [
    "def operations(h, w):\n",
    "    \"\"\"\n",
    "    Takes two inputs, h and w, and makes two Numpy arrays A and B of size\n",
    "    h x w, and returns A, B, and s, the sum of A and B.\n",
    "\n",
    "    Arg:\n",
    "      h - an integer describing the height of A and B\n",
    "      w - an integer describing the width of A and B\n",
    "    Returns (in this order):\n",
    "      A - a randomly-generated h x w Numpy array.\n",
    "      B - a randomly-generated h x w Numpy array.\n",
    "      s - the sum of A and B.\n",
    "    \"\"\"\n",
    "    A = np.random.random([h,w])\n",
    "    B = np.random.random([h,w])\n",
    "    s = A + B\n",
    "    \n",
    "    return A, B, s  \n",
    "    \n",
    "    raise NotImplementedError\n"
   ]
  },
  {
   "cell_type": "code",
   "execution_count": 7,
   "metadata": {},
   "outputs": [
    {
     "data": {
      "text/plain": [
       "(array([[0.57283039, 0.23219492, 0.21924973],\n",
       "        [0.32569212, 0.23081725, 0.49833571]]),\n",
       " array([[0.31367023, 0.76121861, 0.0443407 ],\n",
       "        [0.62472037, 0.3895262 , 0.28174056]]),\n",
       " array([[0.88650062, 0.99341353, 0.26359043],\n",
       "        [0.95041249, 0.62034345, 0.78007627]]))"
      ]
     },
     "execution_count": 7,
     "metadata": {},
     "output_type": "execute_result"
    }
   ],
   "source": [
    "operations(2,3)"
   ]
  },
  {
   "cell_type": "code",
   "execution_count": 8,
   "metadata": {},
   "outputs": [],
   "source": [
    "def norm(A, B):\n",
    "    \"\"\"\n",
    "    Takes two Numpy column arrays, A and B, and returns the L2 norm of their\n",
    "    sum.\n",
    "\n",
    "    Arg:\n",
    "      A - a Numpy array\n",
    "      B - a Numpy array\n",
    "    Returns:\n",
    "      s - the L2 norm of A+B.\n",
    "    \"\"\"\n",
    "    t = A + B\n",
    "    s = np.linalg.norm(t)\n",
    "    \n",
    "    return s\n",
    "        \n",
    "    raise NotImplementedError"
   ]
  },
  {
   "cell_type": "code",
   "execution_count": 11,
   "metadata": {},
   "outputs": [
    {
     "data": {
      "text/plain": [
       "7.211102550927978"
      ]
     },
     "execution_count": 11,
     "metadata": {},
     "output_type": "execute_result"
    }
   ],
   "source": [
    "norm([1,2,3], [2,3,5])"
   ]
  },
  {
   "cell_type": "code",
   "execution_count": 107,
   "metadata": {},
   "outputs": [],
   "source": [
    "def neural_network(inputs, weights):\n",
    "    \"\"\"\n",
    "     Takes an input vector and runs it through a 1-layer neural network\n",
    "     with a given weight matrix and returns the output.\n",
    "\n",
    "     Arg:\n",
    "       inputs - 2 x 1 NumPy array\n",
    "       weights - 2 x 1 NumPy array\n",
    "     Returns (in this order):\n",
    "       out - a 1 x 1 NumPy array, representing the output of the neural network\n",
    "    \"\"\"\n",
    "    \n",
    "    weights_trans = np.array(np.transpose(weights))\n",
    "    t = np.matmul(weights_trans, inputs)\n",
    "    out = np.array(np.tanh(t))\n",
    "    \n",
    "    return out\n",
    "    \n",
    "    raise NotImplementedError"
   ]
  },
  {
   "cell_type": "code",
   "execution_count": 108,
   "metadata": {},
   "outputs": [
    {
     "data": {
      "text/plain": [
       "array([[0.99505475]])"
      ]
     },
     "execution_count": 108,
     "metadata": {},
     "output_type": "execute_result"
    }
   ],
   "source": [
    "neural_network([[1],[1]], [[1],[2]])"
   ]
  },
  {
   "cell_type": "code",
   "execution_count": null,
   "metadata": {},
   "outputs": [],
   "source": []
  },
  {
   "cell_type": "code",
   "execution_count": null,
   "metadata": {},
   "outputs": [],
   "source": []
  },
  {
   "cell_type": "code",
   "execution_count": null,
   "metadata": {},
   "outputs": [],
   "source": []
  },
  {
   "cell_type": "code",
   "execution_count": null,
   "metadata": {},
   "outputs": [],
   "source": []
  }
 ],
 "metadata": {
  "kernelspec": {
   "display_name": "Python 3",
   "language": "python",
   "name": "python3"
  },
  "language_info": {
   "codemirror_mode": {
    "name": "ipython",
    "version": 3
   },
   "file_extension": ".py",
   "mimetype": "text/x-python",
   "name": "python",
   "nbconvert_exporter": "python",
   "pygments_lexer": "ipython3",
   "version": "3.6.12"
  }
 },
 "nbformat": 4,
 "nbformat_minor": 4
}
