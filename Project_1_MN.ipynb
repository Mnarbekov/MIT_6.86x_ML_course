{
 "cells": [
  {
   "cell_type": "code",
   "execution_count": 169,
   "metadata": {},
   "outputs": [],
   "source": [
    "def get_order(n_samples):\n",
    "    try:\n",
    "        with open(str(n_samples) + '.txt') as fp:\n",
    "            line = fp.readline()\n",
    "            return list(map(int, line.split(',')))\n",
    "    except FileNotFoundError:\n",
    "        random.seed(1)\n",
    "        indices = list(range(n_samples))\n",
    "        random.shuffle(indices)\n",
    "        return indices"
   ]
  },
  {
   "cell_type": "code",
   "execution_count": null,
   "metadata": {},
   "outputs": [],
   "source": [
    "from string import punctuation, digits\n",
    "import numpy as np\n",
    "import random\n",
    "\n",
    "def hinge_loss_single(feature_vector, label, theta, theta_0):\n",
    "    \"\"\"\n",
    "    Finds the hinge loss on a single data point given specific classification\n",
    "    parameters.\n",
    "\n",
    "    Args:\n",
    "        feature_vector - A numpy array describing the given data point.\n",
    "        label - A real valued number, the correct classification of the data\n",
    "            point.\n",
    "        theta - A numpy array describing the linear classifier.\n",
    "        theta_0 - A real valued number representing the offset parameter.\n",
    "\n",
    "\n",
    "    Returns: A real number representing the hinge loss associated with the\n",
    "    given data point and parameters.\n",
    "    \"\"\"\n",
    "    \n",
    "    feature_vector_trans = np.array(np.transpose(feature_vector))\n",
    "    t = np.matmul(feature_vector_trans, theta)\n",
    "    z = label*(t+theta_0)\n",
    "    \n",
    "    if z >= 1:\n",
    "        loss = 0\n",
    "    else:\n",
    "        loss = 1 - z\n",
    "    return loss\n",
    "    \n",
    "    raise NotImplementedError"
   ]
  },
  {
   "cell_type": "code",
   "execution_count": 36,
   "metadata": {},
   "outputs": [
    {
     "data": {
      "text/plain": [
       "4"
      ]
     },
     "execution_count": 36,
     "metadata": {},
     "output_type": "execute_result"
    }
   ],
   "source": [
    "hinge_loss_single([1, 2], -1, [-1, 1], 2)"
   ]
  },
  {
   "cell_type": "code",
   "execution_count": 102,
   "metadata": {},
   "outputs": [],
   "source": [
    "def hinge_loss_full(feature_matrix, labels, theta, theta_0):\n",
    "    \"\"\"\n",
    "    Finds the total hinge loss on a set of data given specific classification\n",
    "    parameters.\n",
    "\n",
    "    Args:\n",
    "        feature_matrix - A numpy matrix describing the given data. Each row\n",
    "            represents a single data point.\n",
    "        labels - A numpy array where the kth element of the array is the\n",
    "            correct classification of the kth row of the feature matrix.\n",
    "        theta - A numpy array describing the linear classifier.\n",
    "        theta_0 - A real valued number representing the offset parameter.\n",
    "\n",
    "\n",
    "    Returns: A real number representing the hinge loss associated with the\n",
    "    given dataset and parameters. This number should be the average hinge\n",
    "    loss across all of the points in the feature matrix.\n",
    "    \"\"\"\n",
    "    \n",
    "    loss_sum = 0\n",
    "    \n",
    "    for i in range(len(np.array(feature_matrix))):\n",
    "        loss_sum = loss_sum + hinge_loss_single(feature_matrix[i], labels[i], theta, theta_0)\n",
    "\n",
    "    loss_avg = loss_sum/(i+1)\n",
    "    \n",
    "    \n",
    "    return loss_avg\n",
    "\n",
    "\n",
    "    raise NotImplementedError"
   ]
  },
  {
   "cell_type": "code",
   "execution_count": 103,
   "metadata": {},
   "outputs": [
    {
     "data": {
      "text/plain": [
       "2.0"
      ]
     },
     "execution_count": 103,
     "metadata": {},
     "output_type": "execute_result"
    }
   ],
   "source": [
    "hinge_loss_full([[1, 2], [1, 1]], [-1, 1], [-1, 1], 2)"
   ]
  },
  {
   "cell_type": "code",
   "execution_count": 240,
   "metadata": {},
   "outputs": [],
   "source": [
    "def perceptron_single_step_update(\n",
    "        feature_vector,\n",
    "        label,\n",
    "        current_theta,\n",
    "        current_theta_0):\n",
    "    \"\"\"\n",
    "    Properly updates the classification parameter, theta and theta_0, on a\n",
    "    single step of the perceptron algorithm.\n",
    "\n",
    "    Args:\n",
    "        feature_vector - A numpy array describing a single data point.\n",
    "        label - The correct classification of the feature vector.\n",
    "        current_theta - The current theta being used by the perceptron\n",
    "            algorithm before this update.\n",
    "        current_theta_0 - The current theta_0 being used by the perceptron\n",
    "            algorithm before this update.\n",
    "\n",
    "    Returns: A tuple where the first element is a numpy array with the value of\n",
    "    theta after the current update has completed and the second element is a\n",
    "    real valued number with the value of theta_0 after the current updated has\n",
    "    completed.\n",
    "    \"\"\"\n",
    "    \n",
    "    feature_vector_trans = np.array(np.transpose(feature_vector))\n",
    "    t = np.matmul(feature_vector_trans, current_theta)\n",
    "    z = label*(t + current_theta_0)\n",
    "    \n",
    "    if z < 0.0001:\n",
    "        new_theta = np.sum([current_theta, label*feature_vector], axis=0)\n",
    "        new_theta_0 = current_theta_0 + label\n",
    "    else:\n",
    "        new_theta = current_theta\n",
    "        new_theta_0 = current_theta_0\n",
    "    \n",
    "    thethas = (new_theta, new_theta_0)\n",
    "    \n",
    "    return thethas\n",
    "    \n",
    "    raise NotImplementedError"
   ]
  },
  {
   "cell_type": "code",
   "execution_count": 244,
   "metadata": {},
   "outputs": [
    {
     "data": {
      "text/plain": [
       "(array([0, 3]), -0.5)"
      ]
     },
     "execution_count": 244,
     "metadata": {},
     "output_type": "execute_result"
    }
   ],
   "source": [
    "perceptron_single_step_update([1, 2], 1, [-1, 1], -1.5)"
   ]
  },
  {
   "cell_type": "code",
   "execution_count": 264,
   "metadata": {},
   "outputs": [],
   "source": [
    "def perceptron(feature_matrix, labels, T):\n",
    "    \"\"\"\n",
    "    Runs the full perceptron algorithm on a given set of data. Runs T\n",
    "    iterations through the data set, there is no need to worry about\n",
    "    stopping early.\n",
    "\n",
    "    NOTE: Please use the previously implemented functions when applicable.\n",
    "    Do not copy paste code from previous parts.\n",
    "\n",
    "    NOTE: Iterate the data matrix by the orders returned by get_order(feature_matrix.shape[0])\n",
    "\n",
    "    Args:\n",
    "        feature_matrix -  A numpy matrix describing the given data. Each row\n",
    "            represents a single data point.\n",
    "        labels - A numpy array where the kth element of the array is the\n",
    "            correct classification of the kth row of the feature matrix.\n",
    "        T - An integer indicating how many times the perceptron algorithm\n",
    "            should iterate through the feature matrix.\n",
    "\n",
    "    Returns: A tuple where the first element is a numpy array with the value of\n",
    "    theta, the linear classification parameter, after T iterations through the\n",
    "    feature matrix and the second element is a real number with the value of\n",
    "    theta_0, the offset classification parameter, after T iterations through\n",
    "    the feature matrix.\n",
    "    \"\"\"\n",
    "    thethas_1 = np.zeros(len(feature_matrix[0])) #initializing thethas_1+ to 0\n",
    "    thetha_0 = 0 #initializing thethas to 0\n",
    "    thethas = (thethas_1, thetha_0)\n",
    "    \n",
    "    for t in range(T):\n",
    "        for i in get_order(feature_matrix.shape[0]):\n",
    "            thethas = perceptron_single_step_update(feature_matrix[i], labels[i], thethas[0], thethas[1])\n",
    "            pass\n",
    "        \n",
    "    return thethas\n",
    "    \n",
    "    raise NotImplementedError"
   ]
  },
  {
   "cell_type": "code",
   "execution_count": 265,
   "metadata": {},
   "outputs": [
    {
     "data": {
      "text/plain": [
       "(array([1., 2.]), 1)"
      ]
     },
     "execution_count": 265,
     "metadata": {},
     "output_type": "execute_result"
    }
   ],
   "source": [
    "perceptron(np.array([[1, 2]]), np.array([1]), 2)"
   ]
  },
  {
   "cell_type": "code",
   "execution_count": 266,
   "metadata": {},
   "outputs": [
    {
     "name": "stdout",
     "output_type": "stream",
     "text": [
      "3\n",
      "[2 3 3]\n",
      "1\n",
      "[0 1 2]\n",
      "0\n",
      "[0. 0. 0.]\n",
      "(array([0., 0., 0.]), 0)\n",
      "0\n"
     ]
    }
   ],
   "source": [
    "feature_matrix = np.array([[0, 1, 2], [2,3,3]])\n",
    "print(len(feature_matrix[0]))\n",
    "\n",
    "for i in get_order(feature_matrix.shape[0]):\n",
    "    print(feature_matrix[i])\n",
    "    print(i)\n",
    "    \n",
    "thethas_1 = np.zeros(len(feature_matrix[0])) #initializing thethas to 0\n",
    "print(thethas_1)\n",
    "thetha_0 = 0 #initializing thethas to 0\n",
    "thethas = (thethas_1, thetha_0)\n",
    "print(thethas)\n",
    "print(thethas[1])"
   ]
  },
  {
   "cell_type": "code",
   "execution_count": 281,
   "metadata": {},
   "outputs": [],
   "source": [
    "def average_perceptron(feature_matrix, labels, T):\n",
    "    \"\"\"\n",
    "    Runs the average perceptron algorithm on a given set of data. Runs T\n",
    "    iterations through the data set, there is no need to worry about\n",
    "    stopping early.\n",
    "\n",
    "    NOTE: Please use the previously implemented functions when applicable.\n",
    "    Do not copy paste code from previous parts.\n",
    "\n",
    "    NOTE: Iterate the data matrix by the orders returned by get_order(feature_matrix.shape[0])\n",
    "\n",
    "\n",
    "    Args:\n",
    "        feature_matrix -  A numpy matrix describing the given data. Each row\n",
    "            represents a single data point.\n",
    "        labels - A numpy array where the kth element of the array is the\n",
    "            correct classification of the kth row of the feature matrix.\n",
    "        T - An integer indicating how many times the perceptron algorithm\n",
    "            should iterate through the feature matrix.\n",
    "\n",
    "    Returns: A tuple where the first element is a numpy array with the value of\n",
    "    the average theta, the linear classification parameter, found after T\n",
    "    iterations through the feature matrix and the second element is a real\n",
    "    number with the value of the average theta_0, the offset classification\n",
    "    parameter, found after T iterations through the feature matrix.\n",
    "\n",
    "    Hint: It is difficult to keep a running average; however, it is simple to\n",
    "    find a sum and divide.\n",
    "    \"\"\"\n",
    "    \n",
    "    thethas_1 = np.zeros(len(feature_matrix[0])) #initializing thethas_1+ to 0\n",
    "    thetha_0 = 0 #initializing thethas to 0\n",
    "    thethas = (thethas_1, thetha_0)\n",
    "\n",
    "    for t in range(T):\n",
    "        for i in get_order(feature_matrix.shape[0]):\n",
    "            thethas = perceptron_single_step_update(feature_matrix[i], labels[i], thethas[0], thethas[1])\n",
    "            thethas_1 = np.sum([thethas_1, thethas[0]], axis=0)\n",
    "            thetha_0 = thetha_0 + thethas[1]\n",
    "            pass\n",
    "    \n",
    "    thethas_final = (thethas_1/(T*feature_matrix.shape[0]), thetha_0/(T*feature_matrix.shape[0])) \n",
    "    return thethas_final\n",
    "    \n",
    "    raise NotImplementedError"
   ]
  },
  {
   "cell_type": "code",
   "execution_count": 283,
   "metadata": {},
   "outputs": [
    {
     "data": {
      "text/plain": [
       "(array([-0.25,  1.5 ]), 1.75)"
      ]
     },
     "execution_count": 283,
     "metadata": {},
     "output_type": "execute_result"
    }
   ],
   "source": [
    "average_perceptron(np.array([[1, 2],[-1,0]]), np.array([1, 1]), 2)"
   ]
  },
  {
   "cell_type": "code",
   "execution_count": 285,
   "metadata": {},
   "outputs": [],
   "source": [
    "def pegasos_single_step_update(\n",
    "        feature_vector,\n",
    "        label,\n",
    "        L,\n",
    "        eta,\n",
    "        current_theta,\n",
    "        current_theta_0):\n",
    "    \"\"\"\n",
    "    Properly updates the classification parameter, theta and theta_0, on a\n",
    "    single step of the Pegasos algorithm\n",
    "\n",
    "    Args:\n",
    "        feature_vector - A numpy array describing a single data point.\n",
    "        label - The correct classification of the feature vector.\n",
    "        L - The lamba value being used to update the parameters.\n",
    "        eta - Learning rate to update parameters.\n",
    "        current_theta - The current theta being used by the Pegasos\n",
    "            algorithm before this update.\n",
    "        current_theta_0 - The current theta_0 being used by the\n",
    "            Pegasos algorithm before this update.\n",
    "\n",
    "    Returns: A tuple where the first element is a numpy array with the value of\n",
    "    theta after the current update has completed and the second element is a\n",
    "    real valued number with the value of theta_0 after the current updated has\n",
    "    completed.\n",
    "    \"\"\"\n",
    "    \n",
    "    feature_vector_trans = np.array(np.transpose(feature_vector))\n",
    "    t = np.matmul(feature_vector_trans, current_theta)\n",
    "    z = label*(t + current_theta_0)\n",
    "    \n",
    "    if z <= 1:\n",
    "        new_theta = np.sum([(1-L*eta)*current_theta, eta*label*feature_vector], axis=0)\n",
    "        new_theta_0 = current_theta_0 + eta*label\n",
    "    else:\n",
    "        new_theta = (1-L*eta)*current_theta\n",
    "        new_theta_0 = current_theta_0\n",
    "    \n",
    "    thethas = (new_theta, new_theta_0)\n",
    "    \n",
    "    return thethas\n",
    "    \n",
    "    \n",
    "    \n",
    "    raise NotImplementedError"
   ]
  },
  {
   "cell_type": "code",
   "execution_count": null,
   "metadata": {},
   "outputs": [],
   "source": [
    "# https://towardsdatascience.com/perceptron-algorithms-for-linear-classification-e1bb3dcc7602"
   ]
  },
  {
   "cell_type": "code",
   "execution_count": 291,
   "metadata": {},
   "outputs": [
    {
     "data": {
      "text/plain": [
       "(array([-0.88,  1.08]), 1.1)"
      ]
     },
     "execution_count": 291,
     "metadata": {},
     "output_type": "execute_result"
    }
   ],
   "source": [
    "pegasos_single_step_update(\n",
    "        np.array([1, 1]),\n",
    "        1,\n",
    "        0.2,\n",
    "        0.1,\n",
    "        np.array([-1,1]),\n",
    "        1)"
   ]
  },
  {
   "cell_type": "code",
   "execution_count": 316,
   "metadata": {},
   "outputs": [],
   "source": [
    "def pegasos(feature_matrix, labels, T, L):\n",
    "    \"\"\"\n",
    "    Runs the Pegasos algorithm on a given set of data. Runs T\n",
    "    iterations through the data set, there is no need to worry about\n",
    "    stopping early.\n",
    "\n",
    "    For each update, set learning rate = 1/sqrt(t),\n",
    "    where t is a counter for the number of updates performed so far (between 1\n",
    "    and nT inclusive).\n",
    "\n",
    "    NOTE: Please use the previously implemented functions when applicable.\n",
    "    Do not copy paste code from previous parts.\n",
    "\n",
    "    Args:\n",
    "        feature_matrix - A numpy matrix describing the given data. Each row\n",
    "            represents a single data point.\n",
    "        labels - A numpy array where the kth element of the array is the\n",
    "            correct classification of the kth row of the feature matrix.\n",
    "        T - An integer indicating how many times the algorithm\n",
    "            should iterate through the feature matrix.\n",
    "        L - The lamba value being used to update the Pegasos\n",
    "            algorithm parameters.\n",
    "\n",
    "    Returns: A tuple where the first element is a numpy array with the value of\n",
    "    the theta, the linear classification parameter, found after T\n",
    "    iterations through the feature matrix and the second element is a real\n",
    "    number with the value of the theta_0, the offset classification\n",
    "    parameter, found after T iterations through the feature matrix.\n",
    "    \"\"\"\n",
    "    \n",
    "    thethas_1 = np.zeros(len(feature_matrix[0])) #initializing thethas_1+ to 0\n",
    "    thetha_0 = 0 #initializing thethas to 0\n",
    "    thethas = (thethas_1, thetha_0)\n",
    "    counter = 1\n",
    "    \n",
    "    for t in range(T):\n",
    "        for i in get_order(feature_matrix.shape[0]):            \n",
    "            eta = 1/(counter)**0.5\n",
    "            thethas = pegasos_single_step_update(feature_matrix[i], labels[i], L, eta, thethas[0], thethas[1])\n",
    "            counter = counter + 1\n",
    "            pass\n",
    "    \n",
    "    return thethas\n",
    "    \n",
    "    \n",
    "    \n",
    "    raise NotImplementedError"
   ]
  },
  {
   "cell_type": "code",
   "execution_count": 317,
   "metadata": {},
   "outputs": [
    {
     "data": {
      "text/plain": [
       "(array([1., 2.]), 1.0)"
      ]
     },
     "execution_count": 317,
     "metadata": {},
     "output_type": "execute_result"
    }
   ],
   "source": [
    "pegasos(np.array([[1, 2]]), np.array([1]), 1, 0.2)"
   ]
  },
  {
   "cell_type": "code",
   "execution_count": 318,
   "metadata": {},
   "outputs": [],
   "source": [
    "import project1 as p1\n",
    "import utils\n",
    "import numpy as np\n",
    "\n",
    "#-------------------------------------------------------------------------------\n",
    "# Data loading. There is no need to edit code in this section.\n",
    "#-------------------------------------------------------------------------------\n",
    "\n",
    "train_data = utils.load_data('reviews_train.tsv')\n",
    "val_data = utils.load_data('reviews_val.tsv')\n",
    "test_data = utils.load_data('reviews_test.tsv')\n",
    "\n",
    "train_texts, train_labels = zip(*((sample['text'], sample['sentiment']) for sample in train_data))\n",
    "val_texts, val_labels = zip(*((sample['text'], sample['sentiment']) for sample in val_data))\n",
    "test_texts, test_labels = zip(*((sample['text'], sample['sentiment']) for sample in test_data))\n",
    "\n",
    "dictionary = p1.bag_of_words(train_texts)\n",
    "\n",
    "train_bow_features = p1.extract_bow_feature_vectors(train_texts, dictionary)\n",
    "val_bow_features = p1.extract_bow_feature_vectors(val_texts, dictionary)\n",
    "test_bow_features = p1.extract_bow_feature_vectors(test_texts, dictionary)"
   ]
  },
  {
   "cell_type": "code",
   "execution_count": 320,
   "metadata": {},
   "outputs": [
    {
     "name": "stdout",
     "output_type": "stream",
     "text": [
      "theta for Perceptron is 2.512799999999105, 4.125199999999998\n",
      "theta_0 for Perceptron is -7.0\n"
     ]
    },
    {
     "data": {
      "image/png": "[encoded data removed]",
      "text/plain": [
       "<Figure size 432x288 with 1 Axes>"
      ]
     },
     "metadata": {
      "needs_background": "light"
     },
     "output_type": "display_data"
    },
    {
     "name": "stdout",
     "output_type": "stream",
     "text": [
      "theta for Average Perceptron is 3.876074723499454, 3.9073112719998364\n",
      "theta_0 for Average Perceptron is -7.081905\n"
     ]
    },
    {
     "data": {
      "image/png": "[encoded data removed]",
      "text/plain": [
       "<Figure size 432x288 with 1 Axes>"
      ]
     },
     "metadata": {
      "needs_background": "light"
     },
     "output_type": "display_data"
    },
    {
     "name": "stdout",
     "output_type": "stream",
     "text": [
      "theta for Pegasos is 0.661395833715547, 0.5949551621199267\n",
      "theta_0 for Pegasos is -1.2310716055759896\n"
     ]
    },
    {
     "data": {
      "image/png": "[encoded data removed]",
      "text/plain": [
       "<Figure size 432x288 with 1 Axes>"
      ]
     },
     "metadata": {
      "needs_background": "light"
     },
     "output_type": "display_data"
    }
   ],
   "source": [
    "#-------------------------------------------------------------------------------\n",
    "# Problem 5\n",
    "#-------------------------------------------------------------------------------\n",
    "\n",
    "toy_features, toy_labels = toy_data = utils.load_toy_data('toy_data.tsv')\n",
    "\n",
    "T = 10 #to check if coverge change to 1,000 and 2,000\n",
    "L = 0.2\n",
    "\n",
    "thetas_perceptron = p1.perceptron(toy_features, toy_labels, T)\n",
    "thetas_avg_perceptron = p1.average_perceptron(toy_features, toy_labels, T)\n",
    "thetas_pegasos = p1.pegasos(toy_features, toy_labels, T, L)\n",
    "\n",
    "def plot_toy_results(algo_name, thetas):\n",
    "    print('theta for', algo_name, 'is', ', '.join(map(str,list(thetas[0]))))\n",
    "    print('theta_0 for', algo_name, 'is', str(thetas[1]))\n",
    "    utils.plot_toy_data(algo_name, toy_features, toy_labels, thetas)\n",
    "\n",
    "plot_toy_results('Perceptron', thetas_perceptron)\n",
    "plot_toy_results('Average Perceptron', thetas_avg_perceptron)\n",
    "plot_toy_results('Pegasos', thetas_pegasos)\n"
   ]
  },
  {
   "cell_type": "code",
   "execution_count": 332,
   "metadata": {},
   "outputs": [],
   "source": [
    "def classify(feature_matrix, theta, theta_0):\n",
    "    \"\"\"\n",
    "    A classification function that uses theta and theta_0 to classify a set of\n",
    "    data points.\n",
    "\n",
    "    Args:\n",
    "        feature_matrix - A numpy matrix describing the given data. Each row\n",
    "            represents a single data point.\n",
    "        theta - A numpy array describing the linear classifier.\n",
    "        theta_0 - A real valued number representing the offset parameter.\n",
    "\n",
    "    Returns: A numpy array of 1s and -1s where the kth element of the array is\n",
    "    the predicted classification of the kth row of the feature matrix using the\n",
    "    given theta and theta_0. If a prediction is GREATER THAN zero, it should\n",
    "    be considered a positive classification.\n",
    "    \"\"\"\n",
    "    classif = np.zeros(feature_matrix.shape[0])\n",
    "    \n",
    "    for i in range(feature_matrix.shape[0]):\n",
    "        feature_vector_trans = np.array(np.transpose(feature_matrix[i]))\n",
    "        t = np.matmul(feature_vector_trans, theta)\n",
    "        z = t + theta_0\n",
    "    \n",
    "        if z > 0.0001:\n",
    "            classif[i] = 1\n",
    "        else:\n",
    "            classif[i] = -1\n",
    "    \n",
    "    return classif\n",
    "    \n",
    "    raise NotImplementedError"
   ]
  },
  {
   "cell_type": "code",
   "execution_count": 333,
   "metadata": {},
   "outputs": [
    {
     "data": {
      "text/plain": [
       "array([1., 1., 1.])"
      ]
     },
     "execution_count": 333,
     "metadata": {},
     "output_type": "execute_result"
    }
   ],
   "source": [
    "classify(np.array([[1, 1], [1, 1], [1, 1]]), np.array([1, 1]), 0)"
   ]
  },
  {
   "cell_type": "code",
   "execution_count": 330,
   "metadata": {},
   "outputs": [
    {
     "name": "stdout",
     "output_type": "stream",
     "text": [
      "[0. 0. 0.]\n",
      "0\n",
      "[1 1]\n",
      "1\n",
      "[2 3]\n",
      "2\n",
      "[3 4]\n"
     ]
    }
   ],
   "source": [
    "x = np.array([[1, 1], [2, 3], [3, 4]])\n",
    "classif = np.zeros(x.shape[0])\n",
    "print(classif)\n",
    "for i in range(x.shape[0]):\n",
    "    print(i)\n",
    "    print(x[i])"
   ]
  },
  {
   "cell_type": "code",
   "execution_count": 334,
   "metadata": {},
   "outputs": [],
   "source": [
    "def accuracy(preds, targets):\n",
    "    \"\"\"\n",
    "    Given length-N vectors containing predicted and target labels,\n",
    "    returns the percentage and number of correct predictions.\n",
    "    \"\"\"\n",
    "    return (preds == targets).mean()"
   ]
  },
  {
   "cell_type": "code",
   "execution_count": 338,
   "metadata": {},
   "outputs": [
    {
     "data": {
      "text/plain": [
       "1.0"
      ]
     },
     "execution_count": 338,
     "metadata": {},
     "output_type": "execute_result"
    }
   ],
   "source": [
    "accuracy(np.array([1,1,-1]), np.array([1,1,-1]))"
   ]
  },
  {
   "cell_type": "code",
   "execution_count": 369,
   "metadata": {},
   "outputs": [],
   "source": [
    "def classifier_accuracy(\n",
    "        classifier,\n",
    "        train_feature_matrix,\n",
    "        val_feature_matrix,\n",
    "        train_labels,\n",
    "        val_labels,\n",
    "        **kwargs):\n",
    "    \"\"\"\n",
    "    Trains a linear classifier and computes accuracy.\n",
    "    The classifier is trained on the train data. The classifier's\n",
    "    accuracy on the train and validation data is then returned.\n",
    "\n",
    "    Args:\n",
    "        classifier - A classifier function that takes arguments\n",
    "            (feature matrix, labels, **kwargs) and returns (theta, theta_0)\n",
    "        train_feature_matrix - A numpy matrix describing the training\n",
    "            data. Each row represents a single data point.\n",
    "        val_feature_matrix - A numpy matrix describing the training\n",
    "            data. Each row represents a single data point.\n",
    "        train_labels - A numpy array where the kth element of the array\n",
    "            is the correct classification of the kth row of the training\n",
    "            feature matrix.\n",
    "        val_labels - A numpy array where the kth element of the array\n",
    "            is the correct classification of the kth row of the validation\n",
    "            feature matrix.\n",
    "        **kwargs - Additional named arguments to pass to the classifier\n",
    "            (e.g. T or L)\n",
    "\n",
    "    Returns: A tuple in which the first element is the (scalar) accuracy of the\n",
    "    trained classifier on the training data and the second element is the\n",
    "    accuracy of the trained classifier on the validation data.\n",
    "    \"\"\"\n",
    "    \n",
    "    thethas = classifier(train_feature_matrix, train_labels, **kwargs)\n",
    "    \n",
    "    result_train = classify(train_feature_matrix, thethas[0], thethas[1])\n",
    "    result_val = classify(val_feature_matrix, thethas[0], thethas[1])\n",
    "    accuracy_train = accuracy(result_train, train_labels)\n",
    "    accuracy_val = accuracy(result_val, val_labels)\n",
    "    \n",
    "    accuracy_out = (accuracy_train, accuracy_val)\n",
    "    \n",
    "    return accuracy_out\n",
    "\n",
    "    \n",
    "    raise NotImplementedError"
   ]
  },
  {
   "cell_type": "code",
   "execution_count": 354,
   "metadata": {},
   "outputs": [
    {
     "data": {
      "text/plain": [
       "(1.0, 0.0)"
      ]
     },
     "execution_count": 354,
     "metadata": {},
     "output_type": "execute_result"
    }
   ],
   "source": [
    "classifier_accuracy(pegasos, \n",
    "                    np.array([[1, 0], [1, -1], [2, 3]]), \n",
    "                    np.array([[1, 1], [2, -1]]), \n",
    "                    np.array([1, -1, 1]), \n",
    "                    np.array([-1, 1]),\n",
    "                    T=1,\n",
    "                    L=0.2)"
   ]
  },
  {
   "cell_type": "code",
   "execution_count": 361,
   "metadata": {},
   "outputs": [
    {
     "name": "stdout",
     "output_type": "stream",
     "text": [
      "Training accuracy for perceptron:   0.8157\n",
      "Validation accuracy for perceptron: 0.7160\n",
      "Training accuracy for average perceptron:   0.9728\n",
      "Validation accuracy for average perceptron: 0.7980\n",
      "Training accuracy for Pegasos:                     0.9143\n",
      "Validation accuracy for Pegasos:                   0.7900\n"
     ]
    }
   ],
   "source": [
    "#-------------------------------------------------------------------------------\n",
    "# Problem 7\n",
    "#-------------------------------------------------------------------------------\n",
    "\n",
    "T = 10\n",
    "L = 0.01\n",
    "\n",
    "pct_train_accuracy, pct_val_accuracy = \\\n",
    "classifier_accuracy(perceptron, train_bow_features,val_bow_features,train_labels,val_labels,T=T)\n",
    "print(\"{:35} {:.4f}\".format(\"Training accuracy for perceptron:\", pct_train_accuracy))\n",
    "print(\"{:35} {:.4f}\".format(\"Validation accuracy for perceptron:\", pct_val_accuracy))\n",
    "\n",
    "avg_pct_train_accuracy, avg_pct_val_accuracy = \\\n",
    "classifier_accuracy(average_perceptron, train_bow_features,val_bow_features,train_labels,val_labels,T=T)\n",
    "print(\"{:43} {:.4f}\".format(\"Training accuracy for average perceptron:\", avg_pct_train_accuracy))\n",
    "print(\"{:43} {:.4f}\".format(\"Validation accuracy for average perceptron:\", avg_pct_val_accuracy))\n",
    "\n",
    "avg_peg_train_accuracy, avg_peg_val_accuracy = \\\n",
    "classifier_accuracy(pegasos, train_bow_features,val_bow_features,train_labels,val_labels,T=T,L=L)\n",
    "print(\"{:50} {:.4f}\".format(\"Training accuracy for Pegasos:\", avg_peg_train_accuracy))\n",
    "print(\"{:50} {:.4f}\".format(\"Validation accuracy for Pegasos:\", avg_peg_val_accuracy))"
   ]
  },
  {
   "cell_type": "code",
   "execution_count": null,
   "metadata": {},
   "outputs": [],
   "source": [
    "import csv\n",
    "import numpy as np\n",
    "import matplotlib.pyplot as plt\n",
    "\n",
    "import project1 as p1\n",
    "import sys\n",
    "\n",
    "if sys.version_info[0] < 3:\n",
    "    PYTHON3 = False\n",
    "else:\n",
    "    PYTHON3 = True\n",
    "\n",
    "def load_toy_data(path_toy_data):\n",
    "    \"\"\"\n",
    "    Loads the 2D toy dataset as numpy arrays.\n",
    "    Returns the tuple (features, labels) in which features is an Nx2 numpy matrix and\n",
    "    labels is a length-N vector of +1/-1 labels.\n",
    "    \"\"\"\n",
    "    labels, xs, ys = np.loadtxt(path_toy_data, delimiter='\\t', unpack=True)\n",
    "    return np.vstack((xs, ys)).T, labels\n",
    "\n",
    "def load_data(path_data, extras=False):\n",
    "    \"\"\"\n",
    "    Returns a list of dict with keys:\n",
    "    * sentiment: +1 or -1 if the review was positive or negative, respectively\n",
    "    * text: the text of the review\n",
    "\n",
    "    Additionally, if the `extras` argument is True, each dict will also include the\n",
    "    following information:\n",
    "    * productId: a string that uniquely identifies each product\n",
    "    * userId: a string that uniquely identifies each user\n",
    "    * summary: the title of the review\n",
    "    * helpfulY: the number of users who thought this review was helpful\n",
    "    * helpfulN: the number of users who thought this review was NOT helpful\n",
    "    \"\"\"\n",
    "\n",
    "    global PYTHON3\n",
    "\n",
    "    basic_fields = {'sentiment', 'text'}\n",
    "    numeric_fields = {'sentiment', 'helpfulY', 'helpfulN'}\n",
    "\n",
    "    data = []\n",
    "    if PYTHON3:\n",
    "        f_data = open(path_data, encoding=\"latin1\")\n",
    "    else:\n",
    "        f_data = open(path_data)\n",
    "\n",
    "    for datum in csv.DictReader(f_data, delimiter='\\t'):\n",
    "        for field in list(datum.keys()):\n",
    "            if not extras and field not in basic_fields:\n",
    "                del datum[field]\n",
    "            elif field in numeric_fields and datum[field]:\n",
    "                datum[field] = int(datum[field])\n",
    "\n",
    "        data.append(datum)\n",
    "\n",
    "    f_data.close()\n",
    "\n",
    "    return data\n",
    "\n",
    "def write_predictions(path_submit_data, preds):\n",
    "    if PYTHON3:\n",
    "        f_data = open(path_submit_data, encoding=\"latin1\")\n",
    "    else:\n",
    "        f_data = open(path_submit_data)\n",
    "\n",
    "    reader = csv.DictReader(f_data, delimiter='\\t')\n",
    "    data = list(reader)\n",
    "\n",
    "    assert len(preds) == len(data), \\\n",
    "           'Expected {} predictions but {} were given.'.format(len(data), len(preds))\n",
    "\n",
    "    for pred, datum in zip(preds.astype(int), data):\n",
    "        assert pred == 1 or pred == -1, 'Invalid prediction: {}.'.format(pred)\n",
    "        datum['sentiment'] = pred\n",
    "    f_data.close()\n",
    "\n",
    "    if PYTHON3:\n",
    "        f_out = open(path_submit_data, 'w')\n",
    "    else:\n",
    "        f_out = open(path_submit_data, 'wb')\n",
    "\n",
    "    writer = csv.DictWriter(f_out, delimiter='\\t', fieldnames=reader.fieldnames)\n",
    "    writer.writeheader()\n",
    "    for datum in data:\n",
    "        writer.writerow(datum)\n",
    "    f_out.close()\n",
    "\n",
    "def plot_toy_data(algo_name, features, labels, thetas):\n",
    "    \"\"\"\n",
    "    Plots the toy data in 2D.\n",
    "    Arguments:\n",
    "    * features - an Nx2 ndarray of features (points)\n",
    "    * labels - a length-N vector of +1/-1 labels\n",
    "    * thetas - the tuple (theta, theta_0) that is the output of the learning algorithm\n",
    "    * algorithm - the string name of the learning algorithm used\n",
    "    \"\"\"\n",
    "    # plot the points with labels represented as colors\n",
    "    plt.subplots()\n",
    "    colors = ['b' if label == 1 else 'r' for label in labels]\n",
    "    plt.scatter(features[:, 0], features[:, 1], s=40, c=colors)\n",
    "    xmin, xmax = plt.axis()[:2]\n",
    "\n",
    "    # plot the decision boundary\n",
    "    theta, theta_0 = thetas\n",
    "    xs = np.linspace(xmin, xmax)\n",
    "    ys = -(theta[0]*xs + theta_0) / (theta[1] + 1e-16)\n",
    "    plt.plot(xs, ys, 'k-')\n",
    "\n",
    "    # show the plot\n",
    "    algo_name = ' '.join((word.capitalize() for word in algo_name.split(' ')))\n",
    "    plt.suptitle('Classified Toy Data ({})'.format(algo_name))\n",
    "    plt.show()\n",
    "\n",
    "def plot_tune_results(algo_name, param_name, param_vals, acc_train, acc_val):\n",
    "    \"\"\"\n",
    "    Plots classification accuracy on the training and validation data versus\n",
    "    several values of a hyperparameter used during training.\n",
    "    \"\"\"\n",
    "    # put the data on the plot\n",
    "    plt.subplots()\n",
    "    plt.plot(param_vals, acc_train, '-o')\n",
    "    plt.plot(param_vals, acc_val, '-o')\n",
    "\n",
    "    # make the plot presentable\n",
    "    algo_name = ' '.join((word.capitalize() for word in algo_name.split(' ')))\n",
    "    param_name = param_name.capitalize()\n",
    "    plt.suptitle('Classification Accuracy vs {} ({})'.format(param_name, algo_name))\n",
    "    plt.legend(['train','val'], loc='upper right', title='Partition')\n",
    "    plt.xlabel(param_name)\n",
    "    plt.ylabel('Accuracy (%)')\n",
    "    plt.show()\n",
    "\n",
    "def tune(train_fn, param_vals, train_feats, train_labels, val_feats, val_labels):\n",
    "    train_accs = np.ndarray(len(param_vals))\n",
    "    val_accs = np.ndarray(len(param_vals))\n",
    "\n",
    "    for i, val in enumerate(param_vals):\n",
    "        theta, theta_0 = train_fn(train_feats, train_labels, val)\n",
    "\n",
    "        train_preds = classify(train_feats, theta, theta_0)\n",
    "        train_accs[i] = accuracy(train_preds, train_labels)\n",
    "\n",
    "        val_preds = classify(val_feats, theta, theta_0)\n",
    "        val_accs[i] = accuracy(val_preds, val_labels)\n",
    "\n",
    "    return train_accs, val_accs\n",
    "\n",
    "def tune_perceptron(*args):\n",
    "    return tune(perceptron, *args)\n",
    "\n",
    "def tune_avg_perceptron(*args):\n",
    "    return tune(average_perceptron, *args)\n",
    "\n",
    "def tune_pegasos_T(best_L, *args):\n",
    "    def train_fn(features, labels, T):\n",
    "        return pegasos(features, labels, T, best_L)\n",
    "    return tune(train_fn, *args)\n",
    "\n",
    "def tune_pegasos_L(best_T, *args):\n",
    "    def train_fn(features, labels, L):\n",
    "        return pegasos(features, labels, best_T, L)\n",
    "    return tune(train_fn, *args)\n",
    "\n",
    "def most_explanatory_word(theta, wordlist):\n",
    "    \"\"\"Returns the word associated with the bag-of-words feature having largest weight.\"\"\"\n",
    "    return [word for (theta_i, word) in sorted(zip(theta, wordlist))[::-1]]\n"
   ]
  },
  {
   "cell_type": "code",
   "execution_count": 376,
   "metadata": {},
   "outputs": [
    {
     "name": "stdout",
     "output_type": "stream",
     "text": [
      "perceptron valid: [(1, 0.758), (5, 0.72), (10, 0.716), (15, 0.778), (25, 0.794), (50, 0.79)]\n",
      "best = 0.7940, T=25.0000\n"
     ]
    }
   ],
   "source": [
    "#-------------------------------------------------------------------------------\n",
    "# Problem 8\n",
    "#-------------------------------------------------------------------------------\n",
    "\n",
    "data = (train_bow_features, train_labels, val_bow_features, val_labels)\n",
    "\n",
    "# values of T and lambda to try\n",
    "Ts = [1, 5, 10, 15, 25, 50]\n",
    "Ls = [0.001, 0.01, 0.1, 1, 10]\n",
    "\n",
    "pct_tune_results = tune_perceptron(Ts, *data)\n",
    "print('perceptron valid:', list(zip(Ts, pct_tune_results[1])))\n",
    "print('best = {:.4f}, T={:.4f}'.format(np.max(pct_tune_results[1]), Ts[np.argmax(pct_tune_results[1])]))\n",
    "\n"
   ]
  },
  {
   "cell_type": "code",
   "execution_count": 377,
   "metadata": {},
   "outputs": [
    {
     "name": "stdout",
     "output_type": "stream",
     "text": [
      "avg perceptron valid: [(1, 0.794), (5, 0.792), (10, 0.798), (15, 0.798), (25, 0.8), (50, 0.796)]\n",
      "best = 0.8000, T=25.0000\n"
     ]
    }
   ],
   "source": [
    "avg_pct_tune_results = tune_avg_perceptron(Ts, *data)\n",
    "print('avg perceptron valid:', list(zip(Ts, avg_pct_tune_results[1])))\n",
    "print('best = {:.4f}, T={:.4f}'.format(np.max(avg_pct_tune_results[1]), Ts[np.argmax(avg_pct_tune_results[1])]))"
   ]
  },
  {
   "cell_type": "code",
   "execution_count": 378,
   "metadata": {},
   "outputs": [
    {
     "name": "stdout",
     "output_type": "stream",
     "text": [
      "Pegasos valid: tune T [(1, 0.786), (5, 0.78), (10, 0.79), (15, 0.802), (25, 0.806), (50, 0.8)]\n",
      "best = 0.8060, T=25.0000\n",
      "Pegasos valid: tune L [(0.001, 0.786), (0.01, 0.806), (0.1, 0.762), (1, 0.568), (10, 0.518)]\n",
      "best = 0.8060, L=0.0100\n"
     ]
    },
    {
     "data": {
      "image/png": "[encoded data removed]",
      "text/plain": [
       "<Figure size 432x288 with 1 Axes>"
      ]
     },
     "metadata": {
      "needs_background": "light"
     },
     "output_type": "display_data"
    },
    {
     "data": {
      "image/png": "[encoded data removed]",
      "text/plain": [
       "<Figure size 432x288 with 1 Axes>"
      ]
     },
     "metadata": {
      "needs_background": "light"
     },
     "output_type": "display_data"
    },
    {
     "data": {
      "image/png": "[encoded data removed]",
      "text/plain": [
       "<Figure size 432x288 with 1 Axes>"
      ]
     },
     "metadata": {
      "needs_background": "light"
     },
     "output_type": "display_data"
    },
    {
     "data": {
      "image/png": "[encoded data removed]",
      "text/plain": [
       "<Figure size 432x288 with 1 Axes>"
      ]
     },
     "metadata": {
      "needs_background": "light"
     },
     "output_type": "display_data"
    }
   ],
   "source": [
    "# fix values for L and T while tuning Pegasos T and L, respective\n",
    "fix_L = 0.01\n",
    "peg_tune_results_T = tune_pegasos_T(fix_L, Ts, *data)\n",
    "print('Pegasos valid: tune T', list(zip(Ts, peg_tune_results_T[1])))\n",
    "print('best = {:.4f}, T={:.4f}'.format(np.max(peg_tune_results_T[1]), Ts[np.argmax(peg_tune_results_T[1])]))\n",
    "\n",
    "fix_T = Ts[np.argmax(peg_tune_results_T[1])]\n",
    "peg_tune_results_L = tune_pegasos_L(fix_T, Ls, *data)\n",
    "print('Pegasos valid: tune L', list(zip(Ls, peg_tune_results_L[1])))\n",
    "print('best = {:.4f}, L={:.4f}'.format(np.max(peg_tune_results_L[1]), Ls[np.argmax(peg_tune_results_L[1])]))\n",
    "\n",
    "utils.plot_tune_results('Perceptron', 'T', Ts, *pct_tune_results)\n",
    "utils.plot_tune_results('Avg Perceptron', 'T', Ts, *avg_pct_tune_results)\n",
    "utils.plot_tune_results('Pegasos', 'T', Ts, *peg_tune_results_T)\n",
    "utils.plot_tune_results('Pegasos', 'L', Ls, *peg_tune_results_L)\n"
   ]
  },
  {
   "cell_type": "code",
   "execution_count": 386,
   "metadata": {},
   "outputs": [
    {
     "name": "stdout",
     "output_type": "stream",
     "text": [
      "Training accuracy for Pegasos:                     0.9187\n",
      "Validation accuracy for Pegasos:                   0.8020\n",
      "(array([0., 0., 0.]), 0)\n"
     ]
    }
   ],
   "source": [
    "#-------------------------------------------------------------------------------\n",
    "# Use the best method (perceptron, average perceptron or Pegasos) along with\n",
    "# the optimal hyperparameters according to validation accuracies to test\n",
    "# against the test dataset. The test data has been provided as\n",
    "# test_bow_features and test_labels.\n",
    "#-------------------------------------------------------------------------------\n",
    "\n",
    "T = 25\n",
    "L = 0.01\n",
    "\n",
    "\n",
    "avg_peg_train_accuracy, avg_peg_val_accuracy = \\\n",
    "classifier_accuracy(pegasos, train_bow_features,test_bow_features,train_labels,test_labels,T=T,L=L)\n",
    "print(\"{:50} {:.4f}\".format(\"Training accuracy for Pegasos:\", avg_peg_train_accuracy))\n",
    "print(\"{:50} {:.4f}\".format(\"Validation accuracy for Pegasos:\", avg_peg_val_accuracy))\n",
    "\n"
   ]
  },
  {
   "cell_type": "code",
   "execution_count": 388,
   "metadata": {},
   "outputs": [],
   "source": [
    "thethas = pegasos(train_bow_features, train_labels, T, L)"
   ]
  },
  {
   "cell_type": "code",
   "execution_count": 389,
   "metadata": {},
   "outputs": [
    {
     "name": "stdout",
     "output_type": "stream",
     "text": [
      "Most Explanatory Word Features\n",
      "['delicious', 'great', '!', 'best', 'perfect', 'loves', 'wonderful', 'glad', 'love', 'quickly']\n"
     ]
    }
   ],
   "source": [
    "#-------------------------------------------------------------------------------\n",
    "# Assign to best_theta, the weights (and not the bias!) learned by your most\n",
    "# accurate algorithm with the optimal choice of hyperparameters.\n",
    "#-------------------------------------------------------------------------------\n",
    "\n",
    "best_theta = thethas[0] # Your code here\n",
    "wordlist   = [word for (idx, word) in sorted(zip(dictionary.values(), dictionary.keys()))]\n",
    "sorted_word_features = utils.most_explanatory_word(best_theta, wordlist)\n",
    "print(\"Most Explanatory Word Features\")\n",
    "print(sorted_word_features[:10])"
   ]
  },
  {
   "cell_type": "code",
   "execution_count": 436,
   "metadata": {},
   "outputs": [],
   "source": [
    "def extract_words(input_string):\n",
    "    \"\"\"\n",
    "    Helper function for bag_of_words()\n",
    "    Inputs a text string\n",
    "    Returns a list of lowercase words in the string.\n",
    "    Punctuation and digits are separated out into their own words.\n",
    "    \"\"\"\n",
    "    for c in punctuation + digits:\n",
    "        input_string = input_string.replace(c, ' ' + c + ' ')\n",
    "\n",
    "    return input_string.lower().split()\n",
    "#pragma: coderesponse end"
   ]
  },
  {
   "cell_type": "code",
   "execution_count": 437,
   "metadata": {},
   "outputs": [],
   "source": [
    "def bag_of_words(texts):\n",
    "    \"\"\"\n",
    "    Inputs a list of string reviews\n",
    "    Returns a dictionary of unique unigrams occurring over the input\n",
    "\n",
    "    Feel free to change this code as guided by Problem 9\n",
    "    \"\"\"\n",
    "    stopwords = open('stopwords.txt').read().splitlines()\n",
    "    stop_dict = {}\n",
    "    for s_word in stopwords:\n",
    "        if s_word not in stop_dict:\n",
    "            stop_dict[s_word] = len(stop_dict)\n",
    "            \n",
    "    dictionary = {} # maps word to unique index\n",
    "    for text in texts:\n",
    "        word_list = extract_words(text)\n",
    "        for word in word_list:\n",
    "            if word not in dictionary:\n",
    "                if word not in stop_dict:\n",
    "                    dictionary[word] = len(dictionary)\n",
    "    return dictionary"
   ]
  },
  {
   "cell_type": "code",
   "execution_count": 424,
   "metadata": {},
   "outputs": [
    {
     "name": "stdout",
     "output_type": "stream",
     "text": [
      "{'i': 0, 'me': 1, 'my': 2, 'myself': 3, 'we': 4, 'our': 5, 'ours': 6, 'ourselves': 7, 'you': 8, 'your': 9, 'yours': 10, 'yourself': 11, 'yourselves': 12, 'he': 13, 'him': 14, 'his': 15, 'himself': 16, 'she': 17, 'her': 18, 'hers': 19, 'herself': 20, 'it': 21, 'its': 22, 'itself': 23, 'they': 24, 'them': 25, 'their': 26, 'theirs': 27, 'themselves': 28, 'what': 29, 'which': 30, 'who': 31, 'whom': 32, 'this': 33, 'that': 34, 'these': 35, 'those': 36, 'am': 37, 'is': 38, 'are': 39, 'was': 40, 'were': 41, 'be': 42, 'been': 43, 'being': 44, 'have': 45, 'has': 46, 'had': 47, 'having': 48, 'do': 49, 'does': 50, 'did': 51, 'doing': 52, 'a': 53, 'an': 54, 'the': 55, 'and': 56, 'but': 57, 'if': 58, 'or': 59, 'because': 60, 'as': 61, 'until': 62, 'while': 63, 'of': 64, 'at': 65, 'by': 66, 'for': 67, 'with': 68, 'about': 69, 'against': 70, 'between': 71, 'into': 72, 'through': 73, 'during': 74, 'before': 75, 'after': 76, 'above': 77, 'below': 78, 'to': 79, 'from': 80, 'up': 81, 'down': 82, 'in': 83, 'out': 84, 'on': 85, 'off': 86, 'over': 87, 'under': 88, 'again': 89, 'further': 90, 'then': 91, 'once': 92, 'here': 93, 'there': 94, 'when': 95, 'where': 96, 'why': 97, 'how': 98, 'all': 99, 'any': 100, 'both': 101, 'each': 102, 'few': 103, 'more': 104, 'most': 105, 'other': 106, 'some': 107, 'such': 108, 'no': 109, 'nor': 110, 'not': 111, 'only': 112, 'own': 113, 'same': 114, 'so': 115, 'than': 116, 'too': 117, 'very': 118, 's': 119, 't': 120, 'can': 121, 'will': 122, 'just': 123, 'don': 124, 'should': 125, 'now': 126}\n"
     ]
    }
   ],
   "source": [
    "    stopwords = open('stopwords.txt').read().splitlines()\n",
    "    stop_dict = {}\n",
    "    for s_word in stopwords:\n",
    "        if s_word not in stop_dict:\n",
    "            stop_dict[s_word] = len(stop_dict)\n",
    "    print(stop_dict)"
   ]
  },
  {
   "cell_type": "code",
   "execution_count": 441,
   "metadata": {},
   "outputs": [],
   "source": [
    "#pragma: coderesponse template\n",
    "def extract_bow_feature_vectors(reviews, dictionary):\n",
    "    \"\"\"\n",
    "    Inputs a list of string reviews\n",
    "    Inputs the dictionary of words as given by bag_of_words\n",
    "    Returns the bag-of-words feature matrix representation of the data.\n",
    "    The returned matrix is of shape (n, m), where n is the number of reviews\n",
    "    and m the total number of entries in the dictionary.\n",
    "\n",
    "    Feel free to change this code as guided by Problem 9\n",
    "    \"\"\"\n",
    "    # Your code here\n",
    "\n",
    "    num_reviews = len(reviews)\n",
    "    feature_matrix = np.zeros([num_reviews, len(dictionary)])\n",
    "\n",
    "    for i, text in enumerate(reviews):\n",
    "        word_list = extract_words(text)\n",
    "        for word in word_list:\n",
    "            if word in dictionary:\n",
    "                feature_matrix[i, dictionary[word]] += 1\n",
    "    return feature_matrix\n",
    "#pragma: coderesponse end"
   ]
  },
  {
   "cell_type": "code",
   "execution_count": null,
   "metadata": {},
   "outputs": [],
   "source": []
  },
  {
   "cell_type": "code",
   "execution_count": 442,
   "metadata": {},
   "outputs": [],
   "source": [
    "train_data = utils.load_data('reviews_train.tsv')\n",
    "val_data = utils.load_data('reviews_val.tsv')\n",
    "test_data = utils.load_data('reviews_test.tsv')\n",
    "\n",
    "train_texts, train_labels = zip(*((sample['text'], sample['sentiment']) for sample in train_data))\n",
    "val_texts, val_labels = zip(*((sample['text'], sample['sentiment']) for sample in val_data))\n",
    "test_texts, test_labels = zip(*((sample['text'], sample['sentiment']) for sample in test_data))\n",
    "\n",
    "dictionary = bag_of_words(train_texts)\n",
    "\n",
    "train_bow_features = extract_bow_feature_vectors(train_texts, dictionary)\n",
    "val_bow_features = extract_bow_feature_vectors(val_texts, dictionary)\n",
    "test_bow_features = extract_bow_feature_vectors(test_texts, dictionary)"
   ]
  },
  {
   "cell_type": "code",
   "execution_count": 443,
   "metadata": {},
   "outputs": [
    {
     "name": "stdout",
     "output_type": "stream",
     "text": [
      "13108\n"
     ]
    }
   ],
   "source": [
    "dictionary = bag_of_words(train_texts)\n",
    "print(len(dictionary))"
   ]
  },
  {
   "cell_type": "code",
   "execution_count": 444,
   "metadata": {},
   "outputs": [
    {
     "name": "stdout",
     "output_type": "stream",
     "text": [
      "Training accuracy for Pegasos:                     0.8928\n",
      "Validation accuracy for Pegasos:                   0.7700\n"
     ]
    }
   ],
   "source": [
    "T = 25\n",
    "L = 0.01\n",
    "\n",
    "\n",
    "avg_peg_train_accuracy, avg_peg_val_accuracy = \\\n",
    "classifier_accuracy(pegasos, train_bow_features,test_bow_features,train_labels,test_labels,T=T,L=L)\n",
    "print(\"{:50} {:.4f}\".format(\"Training accuracy for Pegasos:\", avg_peg_train_accuracy))\n",
    "print(\"{:50} {:.4f}\".format(\"Validation accuracy for Pegasos:\", avg_peg_val_accuracy))"
   ]
  },
  {
   "cell_type": "code",
   "execution_count": null,
   "metadata": {},
   "outputs": [],
   "source": []
  }
 ],
 "metadata": {
  "kernelspec": {
   "display_name": "Python 3",
   "language": "python",
   "name": "python3"
  },
  "language_info": {
   "codemirror_mode": {
    "name": "ipython",
    "version": 3
   },
   "file_extension": ".py",
   "mimetype": "text/x-python",
   "name": "python",
   "nbconvert_exporter": "python",
   "pygments_lexer": "ipython3",
   "version": "3.7.7"
  }
 },
 "nbformat": 4,
 "nbformat_minor": 4
}
